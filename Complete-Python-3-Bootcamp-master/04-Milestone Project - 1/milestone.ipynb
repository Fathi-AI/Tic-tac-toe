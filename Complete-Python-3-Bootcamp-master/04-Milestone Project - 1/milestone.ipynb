{
 "cells": [
  {
   "cell_type": "code",
   "execution_count": 1,
   "metadata": {},
   "outputs": [],
   "source": [
    "game_list = [0,1,2]\n"
   ]
  },
  {
   "cell_type": "code",
   "execution_count": 2,
   "metadata": {},
   "outputs": [],
   "source": [
    "def display_game(game_list):\n",
    "    print(\"Here is the current game: \")\n",
    "    print (game_list)"
   ]
  },
  {
   "cell_type": "code",
   "execution_count": 3,
   "metadata": {},
   "outputs": [
    {
     "name": "stdout",
     "output_type": "stream",
     "text": [
      "Here is the current game: \n",
      "[0, 1, 2]\n"
     ]
    }
   ],
   "source": [
    "display_game(game_list)"
   ]
  },
  {
   "cell_type": "code",
   "execution_count": 4,
   "metadata": {},
   "outputs": [],
   "source": [
    "def position_choice():\n",
    "    choice = 'wrong'\n",
    "    accceptable_values = ['0','1','2']\n",
    "    \n",
    "    while choice not in accceptable_values:\n",
    "        choice = input('Pick a position: ')\n",
    "        \n",
    "        if choice not in accceptable_values:\n",
    "            print('Sorry, invalid input! Try again!')\n",
    "    return int(choice)\n",
    "        "
   ]
  },
  {
   "cell_type": "code",
   "execution_count": 5,
   "metadata": {},
   "outputs": [
    {
     "name": "stdout",
     "output_type": "stream",
     "text": [
      "Pick a position: q\n",
      "Sorry, invalid input! Try again!\n",
      "Pick a position: 1\n"
     ]
    },
    {
     "data": {
      "text/plain": [
       "1"
      ]
     },
     "execution_count": 5,
     "metadata": {},
     "output_type": "execute_result"
    }
   ],
   "source": [
    "position_choice()"
   ]
  },
  {
   "cell_type": "code",
   "execution_count": 6,
   "metadata": {},
   "outputs": [],
   "source": [
    "def replacement_choice(gamelist, position):\n",
    "    \n",
    "    user_placement = input(\"Choose a string to replace at position: \")\n",
    "    \n",
    "    gamelist[position] = user_placement\n",
    "    \n",
    "    return gamelist"
   ]
  },
  {
   "cell_type": "code",
   "execution_count": 7,
   "metadata": {},
   "outputs": [
    {
     "name": "stdout",
     "output_type": "stream",
     "text": [
      "Choose a string to replace at position: Fathi\n"
     ]
    },
    {
     "data": {
      "text/plain": [
       "[0, 'Fathi', 2]"
      ]
     },
     "execution_count": 7,
     "metadata": {},
     "output_type": "execute_result"
    }
   ],
   "source": [
    "replacement_choice(game_list,1)"
   ]
  },
  {
   "cell_type": "code",
   "execution_count": 8,
   "metadata": {},
   "outputs": [],
   "source": [
    "def gameon_choice():\n",
    "    choice = 'wrong'\n",
    "    \n",
    "    while choice not in ['Y','N']:\n",
    "        choice = input('Do you want to continue playing? (Y or N): ')\n",
    "        \n",
    "        if choice not in ['Y','N']:\n",
    "            print(\"Sorry, I don't understand.\")\n",
    "    \n",
    "    if choice == 'Y':\n",
    "        return True\n",
    "    else:\n",
    "        return False\n",
    "        "
   ]
  },
  {
   "cell_type": "code",
   "execution_count": 9,
   "metadata": {},
   "outputs": [
    {
     "name": "stdout",
     "output_type": "stream",
     "text": [
      "Do you want to continue playing? (Y or N): j\n",
      "Sorry, I don't understand.\n",
      "Do you want to continue playing? (Y or N): Y\n"
     ]
    },
    {
     "data": {
      "text/plain": [
       "True"
      ]
     },
     "execution_count": 9,
     "metadata": {},
     "output_type": "execute_result"
    }
   ],
   "source": [
    "gameon_choice()"
   ]
  },
  {
   "cell_type": "code",
   "execution_count": 10,
   "metadata": {},
   "outputs": [
    {
     "name": "stdout",
     "output_type": "stream",
     "text": [
      "Here is the current game: \n",
      "[0, 1, 2]\n",
      "Pick a position: 4\n",
      "Sorry, invalid input! Try again!\n",
      "Pick a position: 2\n",
      "Choose a string to replace at position: Fathi\n",
      "Here is the current game: \n",
      "[0, 1, 'Fathi']\n",
      "Do you want to continue playing? (Y or N): Y\n",
      "Here is the current game: \n",
      "[0, 1, 'Fathi']\n",
      "Pick a position: 1\n",
      "Choose a string to replace at position: Big\n",
      "Here is the current game: \n",
      "[0, 'Big', 'Fathi']\n",
      "Do you want to continue playing? (Y or N): N\n"
     ]
    }
   ],
   "source": [
    "gameon = True\n",
    "game_list = [0,1,2]\n",
    "\n",
    "while gameon:\n",
    "    \n",
    "    display_game(game_list)\n",
    "\n",
    "    position = position_choice()\n",
    "\n",
    "    game_list = replacement_choice(game_list,position)\n",
    "\n",
    "    display_game(game_list)\n",
    "\n",
    "    gameon = gameon_choice()"
   ]
  },
  {
   "cell_type": "code",
   "execution_count": null,
   "metadata": {},
   "outputs": [],
   "source": []
  },
  {
   "cell_type": "code",
   "execution_count": null,
   "metadata": {},
   "outputs": [],
   "source": []
  },
  {
   "cell_type": "code",
   "execution_count": null,
   "metadata": {},
   "outputs": [],
   "source": []
  },
  {
   "cell_type": "code",
   "execution_count": 1,
   "metadata": {},
   "outputs": [],
   "source": [
    "#Tik Tak toe \n",
    "from IPython.display import clear_output\n",
    "\n",
    "def display_board(board):\n",
    "    clear_output()\n",
    "    print('   |   |   ')\n",
    "    print (' '+board[1]+' | '+board[2]+' | '+board[3]+' ')\n",
    "    print('___|___|___')\n",
    "    print('   |   |   ')\n",
    "    print (' '+board[4]+' | '+board[5]+' | '+board[6]+' ')\n",
    "    print('___|___|___')\n",
    "    print('   |   |   ')\n",
    "    print (' '+board[7]+' | '+board[8]+' | '+board[9]+' ')\n",
    "    print('   |   |   ')\n",
    "    "
   ]
  },
  {
   "cell_type": "code",
   "execution_count": 2,
   "metadata": {},
   "outputs": [
    {
     "name": "stdout",
     "output_type": "stream",
     "text": [
      "   |   |   \n",
      " X | O | X \n",
      "___|___|___\n",
      "   |   |   \n",
      " O | X | O \n",
      "___|___|___\n",
      "   |   |   \n",
      " X | O | X \n",
      "   |   |   \n"
     ]
    }
   ],
   "source": [
    "test_board = ['#','X','O','X','O','X','O','X','O','X']\n",
    "display_board(test_board)"
   ]
  },
  {
   "cell_type": "code",
   "execution_count": 3,
   "metadata": {},
   "outputs": [],
   "source": [
    "board = ['#', ' ',' ',' ',' ',' ',' ',' ',' ',' ']"
   ]
  },
  {
   "cell_type": "code",
   "execution_count": 4,
   "metadata": {},
   "outputs": [],
   "source": [
    "def welcome():\n",
    "    \n",
    "    display_board(board)\n",
    "    \n",
    "    Ready = 'wrong'\n",
    "    while Ready not in ['Y', 'N']:\n",
    "        Ready = input('Are you ready to play?(Y or N) ')\n",
    "        \n",
    "        if Ready not in ['Y', 'N']:\n",
    "            print ('Sorry, invalid answer.')\n",
    "            print ('Try again!')\n",
    "    \n",
    "    return Ready == 'Y'\n",
    "\n",
    "        "
   ]
  },
  {
   "cell_type": "code",
   "execution_count": 5,
   "metadata": {},
   "outputs": [
    {
     "name": "stdout",
     "output_type": "stream",
     "text": [
      "   |   |   \n",
      "   |   |   \n",
      "___|___|___\n",
      "   |   |   \n",
      "   |   |   \n",
      "___|___|___\n",
      "   |   |   \n",
      "   |   |   \n",
      "   |   |   \n",
      "Are you ready to play?(Y or N) Y\n"
     ]
    },
    {
     "data": {
      "text/plain": [
       "True"
      ]
     },
     "execution_count": 5,
     "metadata": {},
     "output_type": "execute_result"
    }
   ],
   "source": [
    "welcome()"
   ]
  },
  {
   "cell_type": "code",
   "execution_count": 6,
   "metadata": {},
   "outputs": [],
   "source": [
    "def X_or_O():\n",
    "    player1_marker = 'wrong1'\n",
    "    player2_marker = 'wrong2'\n",
    "    \n",
    "    while player1_marker not in ['X','O']:\n",
    "        player1_marker = input('What will your marker be Player 1? (X or O) : ')\n",
    "        \n",
    "        if player1_marker not in ['X','O']:\n",
    "            print('Sorry pick a valid marker. ')\n",
    "        \n",
    "    if player1_marker == 'X':\n",
    "        player2_marker = 'O'\n",
    "    else:\n",
    "        player2_marker = 'X'\n",
    "    \n",
    "    return (player1_marker,player2_marker)"
   ]
  },
  {
   "cell_type": "code",
   "execution_count": 7,
   "metadata": {},
   "outputs": [
    {
     "name": "stdout",
     "output_type": "stream",
     "text": [
      "What will your marker be Player 1? (X or O) : X\n"
     ]
    },
    {
     "data": {
      "text/plain": [
       "('X', 'O')"
      ]
     },
     "execution_count": 7,
     "metadata": {},
     "output_type": "execute_result"
    }
   ],
   "source": [
    "X_or_O()"
   ]
  },
  {
   "cell_type": "code",
   "execution_count": 8,
   "metadata": {},
   "outputs": [
    {
     "name": "stdout",
     "output_type": "stream",
     "text": [
      "What will your marker be Player 1? (X or O) : X\n"
     ]
    }
   ],
   "source": [
    "player1_marker,player2_marker = X_or_O()"
   ]
  },
  {
   "cell_type": "code",
   "execution_count": 9,
   "metadata": {
    "scrolled": true
   },
   "outputs": [],
   "source": [
    "def place_marker(board, marker, position):\n",
    "        board[position] = marker\n",
    "    \n",
    "        return board\n",
    "        "
   ]
  },
  {
   "cell_type": "code",
   "execution_count": 10,
   "metadata": {},
   "outputs": [
    {
     "name": "stdout",
     "output_type": "stream",
     "text": [
      "   |   |   \n",
      " X | O | X \n",
      "___|___|___\n",
      "   |   |   \n",
      " X | X | O \n",
      "___|___|___\n",
      "   |   |   \n",
      " X | O | X \n",
      "   |   |   \n"
     ]
    }
   ],
   "source": [
    "place_marker(test_board,player1_marker, 4)\n",
    "display_board(test_board)"
   ]
  },
  {
   "cell_type": "code",
   "execution_count": 11,
   "metadata": {},
   "outputs": [],
   "source": [
    "def win_check(board, mark):\n",
    "    return (board[1]==board[2]==board[3]==mark) or (board[4]==board[5]==board[6]==mark) or (board[7]==board[8]==board[9]==mark) or (board[1]==board[4]==board[7]==mark) or (board[2]==board[5]==board[8]==mark) or (board[3]==board[6]==board[9]==mark) or (board[1]==board[5]==board[9]==mark) or (board[3]==board[5]==board[7]==mark)\n",
    "    "
   ]
  },
  {
   "cell_type": "code",
   "execution_count": 12,
   "metadata": {},
   "outputs": [
    {
     "data": {
      "text/plain": [
       "True"
      ]
     },
     "execution_count": 12,
     "metadata": {},
     "output_type": "execute_result"
    }
   ],
   "source": [
    "win_check(test_board,'X')"
   ]
  },
  {
   "cell_type": "code",
   "execution_count": 13,
   "metadata": {},
   "outputs": [],
   "source": [
    "import random\n",
    "\n",
    "def choose_first(player1, player2):\n",
    "    player1=1\n",
    "    player2=2\n",
    "    first = str(random.randint(player1,player2))\n",
    "    print ('Player '+first+' is going first!')\n",
    "    return first"
   ]
  },
  {
   "cell_type": "code",
   "execution_count": 20,
   "metadata": {},
   "outputs": [
    {
     "name": "stdout",
     "output_type": "stream",
     "text": [
      "Player 1 is going first!\n"
     ]
    },
    {
     "data": {
      "text/plain": [
       "'1'"
      ]
     },
     "execution_count": 20,
     "metadata": {},
     "output_type": "execute_result"
    }
   ],
   "source": [
    "choose_first(1, 2)"
   ]
  },
  {
   "cell_type": "code",
   "execution_count": 21,
   "metadata": {},
   "outputs": [],
   "source": [
    "def space_check(board, position):\n",
    "    return board[position]==' '"
   ]
  },
  {
   "cell_type": "code",
   "execution_count": 22,
   "metadata": {},
   "outputs": [
    {
     "data": {
      "text/plain": [
       "False"
      ]
     },
     "execution_count": 22,
     "metadata": {},
     "output_type": "execute_result"
    }
   ],
   "source": [
    "space_check(test_board,6)"
   ]
  },
  {
   "cell_type": "code",
   "execution_count": 23,
   "metadata": {},
   "outputs": [],
   "source": [
    "def full_board_check(board):\n",
    "    position = 0\n",
    "    \n",
    "    while position in range(len(board)):\n",
    "        \n",
    "        if board[position] != ' ':\n",
    "            position +=1\n",
    "            \n",
    "        else:\n",
    "            return False\n",
    "    return True\n",
    "    "
   ]
  },
  {
   "cell_type": "code",
   "execution_count": 24,
   "metadata": {},
   "outputs": [
    {
     "data": {
      "text/plain": [
       "True"
      ]
     },
     "execution_count": 24,
     "metadata": {},
     "output_type": "execute_result"
    }
   ],
   "source": [
    "full_board_check(test_board)"
   ]
  },
  {
   "cell_type": "code",
   "execution_count": 25,
   "metadata": {},
   "outputs": [],
   "source": [
    "def player_choice(board):\n",
    "    position = 0\n",
    "    while position not in list(range(1,10)):\n",
    "        position = int(input(\"Make your move. Choose a position (1-9) : \"))\n",
    "        \n",
    "        if position not in list(range(1,10)):\n",
    "            print('Sorry, please pick a valid position')\n",
    "    \n",
    "        elif space_check(board, position) == False:\n",
    "            print ('That space has been taken!')\n",
    "            print ('Select a different position')\n",
    "            position = 0\n",
    "    return position\n",
    "            \n",
    "    "
   ]
  },
  {
   "cell_type": "code",
   "execution_count": 26,
   "metadata": {},
   "outputs": [
    {
     "name": "stdout",
     "output_type": "stream",
     "text": [
      "Make your move. Choose a position (1-9) : 5\n"
     ]
    },
    {
     "data": {
      "text/plain": [
       "5"
      ]
     },
     "execution_count": 26,
     "metadata": {},
     "output_type": "execute_result"
    }
   ],
   "source": [
    "player_choice(board)"
   ]
  },
  {
   "cell_type": "code",
   "execution_count": 27,
   "metadata": {},
   "outputs": [],
   "source": [
    "def replay():\n",
    "    answer = 'lol'\n",
    "    while answer not in ['Y','N']:\n",
    "        \n",
    "        answer = input('Do you want to play again?(Y or N) : ')\n",
    "        \n",
    "        if answer not in ['Y','N']:\n",
    "            print ('Please, select Y or N')\n",
    "        elif answer == 'Y':\n",
    "            board = ['#', ' ',' ',' ',' ',' ',' ',' ',' ',' ']\n",
    "        else:\n",
    "            print('Thank you for playing!')\n",
    "            \n",
    "    return answer=='Y'"
   ]
  },
  {
   "cell_type": "code",
   "execution_count": 28,
   "metadata": {},
   "outputs": [
    {
     "name": "stdout",
     "output_type": "stream",
     "text": [
      "Do you want to play again?(Y or N) : Y\n"
     ]
    },
    {
     "data": {
      "text/plain": [
       "True"
      ]
     },
     "execution_count": 28,
     "metadata": {},
     "output_type": "execute_result"
    }
   ],
   "source": [
    "replay()"
   ]
  },
  {
   "cell_type": "code",
   "execution_count": null,
   "metadata": {},
   "outputs": [
    {
     "name": "stdout",
     "output_type": "stream",
     "text": [
      "   |   |   \n",
      " X | O | X \n",
      "___|___|___\n",
      "   |   |   \n",
      " O | X | O \n",
      "___|___|___\n",
      "   |   |   \n",
      " X |   |   \n",
      "   |   |   \n",
      "Game over! You have won player 1!\n",
      "Do you want to play again?(Y or N) : N\n",
      "Thank you for playing!\n"
     ]
    }
   ],
   "source": [
    "#End product TikTakToe\n",
    "\n",
    "while True: \n",
    "    print ('Welcome to our game of TikTakToe!')\n",
    "    board = ['#', ' ',' ',' ',' ',' ',' ',' ',' ',' ']\n",
    "    display_board(board)\n",
    "    player1 = ''\n",
    "    player2 = ''\n",
    "    \n",
    "    \n",
    "    \n",
    "    while welcome():\n",
    "        \n",
    "        first = choose_first(player1,player2)\n",
    "        X_or_O()\n",
    "    \n",
    "        while True:\n",
    "            if first == '1':\n",
    "                marker = player1_marker\n",
    "            else:\n",
    "                marker = player2_marker\n",
    "            print ('It is your turn player'+first)\n",
    "            position = player_choice(board)\n",
    "    \n",
    "            space_check(board, position)\n",
    "    \n",
    "            place_marker(board,marker, position)\n",
    "            display_board(board)\n",
    "    \n",
    "            while win_check(board, marker)==False and full_board_check(board)== False:\n",
    "                if first == '1':\n",
    "                    print ('It is now your turn player 2!')\n",
    "                    marker = player2_marker\n",
    "                        \n",
    "                    position = player_choice(board)\n",
    "    \n",
    "                    space_check(board, position)\n",
    "    \n",
    "                    place_marker(board,marker, position)\n",
    "                    display_board(board)\n",
    "                    if win_check(board, marker):\n",
    "                        print ('Game over! You have won player 2!')\n",
    "                        break\n",
    "                    elif full_board_check(board):\n",
    "                        print ('Game is over!')\n",
    "                        print ( 'It was a Tie!')\n",
    "                        break\n",
    "                    else:\n",
    "                        pass\n",
    "                    while True:\n",
    "                        print ('It is now your turn player 1!')\n",
    "                        marker = player1_marker\n",
    "                        \n",
    "                        position = player_choice(board)\n",
    "    \n",
    "                        space_check(board, position)\n",
    "    \n",
    "                        place_marker(board,marker, position)\n",
    "                        display_board(board)\n",
    "                        if win_check(board, marker):\n",
    "                            print ('Game over! You have won player 1!')\n",
    "                            \n",
    "                            break\n",
    "                        elif full_board_check(board):\n",
    "                            print ('Game is over!')\n",
    "                            print ( 'It was a Tie!')\n",
    "                            break\n",
    "                        else:\n",
    "                            break\n",
    "                else:\n",
    "                    \n",
    "                    print ('It is now your turn player 1!')\n",
    "                    marker = player1_marker\n",
    "                        \n",
    "                    position = player_choice(board)\n",
    "    \n",
    "                    space_check(board, position)\n",
    "    \n",
    "                    place_marker(board,marker, position)\n",
    "                    display_board(board)\n",
    "                    if win_check(board, marker):\n",
    "                        print ('Game over! You have won player 1!')\n",
    "                        \n",
    "                        break\n",
    "                    elif full_board_check(board):\n",
    "                        print ('Game is over!')\n",
    "                        print ( 'It was a Tie!')\n",
    "                        break\n",
    "                    else:\n",
    "                        pass\n",
    "                    while True:\n",
    "                        print ('It is now your turn player 2!')\n",
    "                        marker = player2_marker\n",
    "                        \n",
    "                        position = player_choice(board)\n",
    "    \n",
    "                        space_check(board, position)\n",
    "    \n",
    "                        place_marker(board,marker, position)\n",
    "                        display_board(board)\n",
    "                        if win_check(board, marker):\n",
    "                            print ('Game over! You have won player 2!')\n",
    "                            \n",
    "                            break\n",
    "                        elif full_board_check(board):\n",
    "                            print ('Game is over!')\n",
    "                            print ( 'It was a Tie!')\n",
    "                            break\n",
    "                        else:\n",
    "                            break\n",
    "                        \n",
    "            if win_check(board, marker) == True and replay() == True:\n",
    "                print('Game is over!')\n",
    "                board = ['#', ' ',' ',' ',' ',' ',' ',' ',' ',' ']\n",
    "                display_board(board)\n",
    "                break\n",
    "            elif full_board_check(board) == True and replay() == True:\n",
    "                print ('Game is over!')\n",
    "                \n",
    "                board = ['#', ' ',' ',' ',' ',' ',' ',' ',' ',' ']\n",
    "                display_board(board)\n",
    "                break\n",
    "            elif replay() == False:\n",
    "                break\n",
    "            else:\n",
    "                pass\n",
    "return ('Thank you for playing! :)')\n",
    "                \n",
    "                        \n",
    "                \n",
    "\n"
   ]
  },
  {
   "cell_type": "code",
   "execution_count": null,
   "metadata": {},
   "outputs": [],
   "source": []
  }
 ],
 "metadata": {
  "kernelspec": {
   "display_name": "Python 3",
   "language": "python",
   "name": "python3"
  },
  "language_info": {
   "codemirror_mode": {
    "name": "ipython",
    "version": 3
   },
   "file_extension": ".py",
   "mimetype": "text/x-python",
   "name": "python",
   "nbconvert_exporter": "python",
   "pygments_lexer": "ipython3",
   "version": "3.7.4"
  }
 },
 "nbformat": 4,
 "nbformat_minor": 2
}
